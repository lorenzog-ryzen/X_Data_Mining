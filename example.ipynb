{
 "cells": [
  {
   "cell_type": "code",
   "execution_count": 1,
   "id": "201b8592",
   "metadata": {},
   "outputs": [],
   "source": [
    "import tweepy\n",
    "import pandas as pd\n",
    "import yaml\n",
    "import os\n",
    "\n",
    "config_path = \"config.yaml\"\n",
    "\n",
    "with open(config_path, \"r\") as file:\n",
    "            config = yaml.safe_load(file)\n",
    "\n",
    "# 🔑 Reemplaza esto con tu propio token\n",
    "BEARER_TOKEN = config['BEARER_TOKEN'][0]\n",
    "\n"
   ]
  },
  {
   "cell_type": "code",
   "execution_count": 2,
   "id": "6bd1bafa",
   "metadata": {},
   "outputs": [
    {
     "name": "stdout",
     "output_type": "stream",
     "text": [
      "                      Fecha                Autor  \\\n",
      "0 2025-06-02 11:58:38+00:00   858316970864914433   \n",
      "1 2025-06-02 11:41:00+00:00            240815166   \n",
      "2 2025-06-02 09:26:41+00:00   872812055463636992   \n",
      "3 2025-06-02 08:47:41+00:00            177713300   \n",
      "4 2025-06-02 07:52:34+00:00  1382764347043237889   \n",
      "\n",
      "                                               Texto  \n",
      "0  @SeekingTheValue Esta gente estaba alineada co...  \n",
      "1  📜 El 2 de junio de 1970, nos dejó una de las v...  \n",
      "2  Feminismo para todos: desmontando prejuicios\\n...  \n",
      "3  @almapatriayvida @tipitoenojado 📣 Mandriles......  \n",
      "4  Lgbt que se FORMÓ para luchar por los derechos...  \n"
     ]
    }
   ],
   "source": [
    "\n",
    "# Autenticación con el Bearer Token\n",
    "client = tweepy.Client(bearer_token=BEARER_TOKEN)\n",
    "# 🧪 Definir la búsqueda (solo tweets recientes)\n",
    "query = ' derechos y feminismo lang:es -is:retweet'\n",
    "\n",
    "# Solicitar los tweets\n",
    "response = client.search_recent_tweets(\n",
    "    query=query,\n",
    "    tweet_fields=[\"created_at\", \"author_id\", \"lang\"],\n",
    "    max_results=30  # Máximo permitido por request\n",
    ")\n",
    "\n",
    "# Procesar los tweets\n",
    "tweets = []\n",
    "if response.data:\n",
    "    for tweet in response.data:\n",
    "        tweets.append({\n",
    "            \"Fecha\": tweet.created_at,\n",
    "            \"Autor\": tweet.author_id,\n",
    "            \"Texto\": tweet.text\n",
    "        })\n",
    "\n",
    "    # Crear un DataFrame\n",
    "    df = pd.DataFrame(tweets)\n",
    "    print(df.head())\n",
    "\n",
    "    # Guardar en CSV\n",
    "    df.to_csv(\"tweets_recientes.csv\", index=False, encoding='utf-8-sig')\n",
    "else:\n",
    "    print(\"❌ No se encontraron tweets para esta búsqueda.\")\n"
   ]
  }
 ],
 "metadata": {
  "kernelspec": {
   "display_name": "env_py",
   "language": "python",
   "name": "python3"
  },
  "language_info": {
   "codemirror_mode": {
    "name": "ipython",
    "version": 3
   },
   "file_extension": ".py",
   "mimetype": "text/x-python",
   "name": "python",
   "nbconvert_exporter": "python",
   "pygments_lexer": "ipython3",
   "version": "3.9.18"
  }
 },
 "nbformat": 4,
 "nbformat_minor": 5
}
